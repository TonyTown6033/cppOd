好的，以下是一套有难度的 Python 基础卷子。每道题都提供了函数体和测试用例，但不提供答案，仅提供函数接口。

## 题目

### 第一题

编写一个函数，将一个字符串列表中的所有字符串连接成一个字符串，并返回该字符串。

函数体：

```python
def join_list(lst):
    # TODO: 实现该函数
    pass
```

测试用例：

```python
assert join_list(["Hello", "world", "!"]) == "Hello world!"
assert join_list(["I", "love", "Python", "."]) == "I love Python."
```


### 第二题

编写一个函数，将一个字符串中每个单词的首字母大写，并返回该字符串。

函数体：

```python
def capitalize_words(s):
    # TODO: 实现该函数
    pass
```

测试用例：

```python
assert capitalize_words("hello world") == "Hello World"
assert capitalize_words("i love python") == "I Love Python"
```


### 第三题

编写一个函数，找出一个字符串列表中最长的字符串，并返回该字符串及其长度。

函数体：

```python
def find_longest(lst):
    # TODO: 实现该函数
    pass
```

测试用例：

```python
assert find_longest(["hello", "world", "!"]) == ("world", 5)
assert find_longest(["I", "love", "Python"]) == ("Python", 6)
```


### 第四题

编写一个函数，判断一个字符串是否回文（正反都能读通）。

函数体：

```python
def is_palindrome(s):
    # TODO: 实现该函数
    pass
```

测试用例：

```python
assert is_palindrome("racecar") == True
assert is_palindrome("hello") == False
```


### 第五题

编写一个函数，统计一个字符串中每个字符出现的次数，并返回一个字典。

函数体：

```python
def count_chars(s):
    # TODO: 实现该函数
    pass
```

测试用例：

```python
assert count_chars("hello") == {"h": 1, "e": 1, "l": 2, "o": 1}
assert count_chars("python") == {"p": 1, "y": 1, "t": 1, "h": 1, "o": 1, "n": 1}
```


### 第六题

编写一个函数，计算斐波那契数列的第n项。

函数体：

```python
def fibonacci(n):
    # TODO: 实现该函数
    pass
```

测试用例：

```python
assert fibonacci(0) == 0
assert fibonacci(1) == 1
assert fibonacci(2) == 1
assert fibonacci(3) == 2
assert fibonacci(4) == 3
assert fibonacci(5) == 5
```


### 第七题

编写一个函数，将一个列表中的元素翻转，并返回该翻转后的列表。

函数体：

```python
def reverse_list(lst):
    # TODO: 实现该函数
    pass
```

测试用例：

```python
assert reverse_list([1, 2, 3, 4, 5]) == [5, 4, 3, 2, 1]
assert reverse_list(["hello", "world", "!"]) == ["!", "world", "hello"]
```


### 第八题

编写一个函数，将一个整数转换为罗马数字。

函数体：

```python
def int_to_roman(num):
    # TODO: 实现该函数
    pass
```

测试用例：

```python
assert int_to_roman(3) == "III"
assert int_to_roman(9) == "IX"
assert int_to_roman(58) == "LVIII"
assert int_to_roman(1994) == "MCMXCIV"
```


### 第九题

编写一个函数，判断一个数是不是质数（素数）。

函数体：

```python
def is_prime(n):
    # TODO: 实现该函数
    pass
```

测试用例：

```python
assert is_prime(3) == True
assert is_prime(4) == False
assert is_prime(5)
