{
  "nbformat": 4,
  "nbformat_minor": 0,
  "metadata": {
    "colab": {
      "provenance": [],
      "authorship_tag": "ABX9TyP9zvnTLo967hy2vT4cwRMz",
      "include_colab_link": true
    },
    "kernelspec": {
      "name": "python3",
      "display_name": "Python 3"
    },
    "language_info": {
      "name": "python"
    }
  },
  "cells": [
    {
      "cell_type": "markdown",
      "metadata": {
        "id": "view-in-github",
        "colab_type": "text"
      },
      "source": [
        "<a href=\"https://colab.research.google.com/github/TonyTown6033/testPython/blob/main/pythonSimpleTest.ipynb\" target=\"_parent\"><img src=\"https://colab.research.google.com/assets/colab-badge.svg\" alt=\"Open In Colab\"/></a>"
      ]
    },
    {
      "cell_type": "markdown",
      "source": [
        "# Python 基础测试题\n"
      ],
      "metadata": {
        "id": "CF5U2JVRs2c9"
      }
    },
    {
      "cell_type": "markdown",
      "source": [
        "##试题 1"
      ],
      "metadata": {
        "id": "h-7lumiqs7OW"
      }
    },
    {
      "cell_type": "code",
      "source": [
        "def add_two_numbers(a, b):\n",
        "    \"\"\"\n",
        "    计算两个数的和\n",
        "    \"\"\"\n",
        "    pass\n",
        "\n",
        "# 测试用例\n",
        "assert add_two_numbers(1, 2) == 3\n",
        "assert add_two_numbers(0, 0) == 0\n",
        "assert add_two_numbers(-1, 1) == 0"
      ],
      "metadata": {
        "colab": {
          "base_uri": "https://localhost:8080/",
          "height": 245
        },
        "id": "wBmKyIeIs-0T",
        "outputId": "bc32c395-e810-4abf-a3ee-7284a8a5948a"
      },
      "execution_count": null,
      "outputs": [
        {
          "output_type": "error",
          "ename": "AssertionError",
          "evalue": "ignored",
          "traceback": [
            "\u001b[0;31m---------------------------------------------------------------------------\u001b[0m",
            "\u001b[0;31mAssertionError\u001b[0m                            Traceback (most recent call last)",
            "\u001b[0;32m<ipython-input-1-a1eec6018500>\u001b[0m in \u001b[0;36m<cell line: 8>\u001b[0;34m()\u001b[0m\n\u001b[1;32m      6\u001b[0m \u001b[0;34m\u001b[0m\u001b[0m\n\u001b[1;32m      7\u001b[0m \u001b[0;31m# 测试用例\u001b[0m\u001b[0;34m\u001b[0m\u001b[0;34m\u001b[0m\u001b[0m\n\u001b[0;32m----> 8\u001b[0;31m \u001b[0;32massert\u001b[0m \u001b[0madd_two_numbers\u001b[0m\u001b[0;34m(\u001b[0m\u001b[0;36m1\u001b[0m\u001b[0;34m,\u001b[0m \u001b[0;36m2\u001b[0m\u001b[0;34m)\u001b[0m \u001b[0;34m==\u001b[0m \u001b[0;36m3\u001b[0m\u001b[0;34m\u001b[0m\u001b[0;34m\u001b[0m\u001b[0m\n\u001b[0m\u001b[1;32m      9\u001b[0m \u001b[0;32massert\u001b[0m \u001b[0madd_two_numbers\u001b[0m\u001b[0;34m(\u001b[0m\u001b[0;36m0\u001b[0m\u001b[0;34m,\u001b[0m \u001b[0;36m0\u001b[0m\u001b[0;34m)\u001b[0m \u001b[0;34m==\u001b[0m \u001b[0;36m0\u001b[0m\u001b[0;34m\u001b[0m\u001b[0;34m\u001b[0m\u001b[0m\n\u001b[1;32m     10\u001b[0m \u001b[0;32massert\u001b[0m \u001b[0madd_two_numbers\u001b[0m\u001b[0;34m(\u001b[0m\u001b[0;34m-\u001b[0m\u001b[0;36m1\u001b[0m\u001b[0;34m,\u001b[0m \u001b[0;36m1\u001b[0m\u001b[0;34m)\u001b[0m \u001b[0;34m==\u001b[0m \u001b[0;36m0\u001b[0m\u001b[0;34m\u001b[0m\u001b[0;34m\u001b[0m\u001b[0m\n",
            "\u001b[0;31mAssertionError\u001b[0m: "
          ]
        }
      ]
    },
    {
      "cell_type": "markdown",
      "source": [
        "## 试题 2"
      ],
      "metadata": {
        "id": "gBUA-m8-tBxB"
      }
    },
    {
      "cell_type": "code",
      "source": [
        "def calculate_area_of_circle(radius):\n",
        "    \"\"\"\n",
        "    计算圆的面积，参数为圆的半径\n",
        "    \"\"\"\n",
        "    pass\n",
        "\n",
        "# 测试用例\n",
        "assert calculate_area_of_circle(1) == 3.14159\n",
        "assert calculate_area_of_circle(0) == 0\n",
        "assert calculate_area_of_circle(2.5) == 19.6349375"
      ],
      "metadata": {
        "id": "NV-lkQtVtAVt"
      },
      "execution_count": null,
      "outputs": []
    },
    {
      "cell_type": "markdown",
      "source": [
        "## 试题 3"
      ],
      "metadata": {
        "id": "8W87KVsWtFIt"
      }
    },
    {
      "cell_type": "code",
      "source": [
        "def is_positive_number(value):\n",
        "    \"\"\"\n",
        "    判断一个数是否为正数\n",
        "    \"\"\"\n",
        "    pass\n",
        "\n",
        "# 测试用例\n",
        "assert is_positive_number(1) == True\n",
        "assert is_positive_number(0) == False\n",
        "assert is_positive_number(-1) == False"
      ],
      "metadata": {
        "colab": {
          "base_uri": "https://localhost:8080/",
          "height": 245
        },
        "id": "fhiMiCLvtGHs",
        "outputId": "995e8047-1b88-4fd7-a921-b41dba995648"
      },
      "execution_count": null,
      "outputs": [
        {
          "output_type": "error",
          "ename": "AssertionError",
          "evalue": "ignored",
          "traceback": [
            "\u001b[0;31m---------------------------------------------------------------------------\u001b[0m",
            "\u001b[0;31mAssertionError\u001b[0m                            Traceback (most recent call last)",
            "\u001b[0;32m<ipython-input-2-085094475204>\u001b[0m in \u001b[0;36m<cell line: 8>\u001b[0;34m()\u001b[0m\n\u001b[1;32m      6\u001b[0m \u001b[0;34m\u001b[0m\u001b[0m\n\u001b[1;32m      7\u001b[0m \u001b[0;31m# 测试用例\u001b[0m\u001b[0;34m\u001b[0m\u001b[0;34m\u001b[0m\u001b[0m\n\u001b[0;32m----> 8\u001b[0;31m \u001b[0;32massert\u001b[0m \u001b[0mis_positive_number\u001b[0m\u001b[0;34m(\u001b[0m\u001b[0;36m1\u001b[0m\u001b[0;34m)\u001b[0m \u001b[0;34m==\u001b[0m \u001b[0;32mTrue\u001b[0m\u001b[0;34m\u001b[0m\u001b[0;34m\u001b[0m\u001b[0m\n\u001b[0m\u001b[1;32m      9\u001b[0m \u001b[0;32massert\u001b[0m \u001b[0mis_positive_number\u001b[0m\u001b[0;34m(\u001b[0m\u001b[0;36m0\u001b[0m\u001b[0;34m)\u001b[0m \u001b[0;34m==\u001b[0m \u001b[0;32mFalse\u001b[0m\u001b[0;34m\u001b[0m\u001b[0;34m\u001b[0m\u001b[0m\n\u001b[1;32m     10\u001b[0m \u001b[0;32massert\u001b[0m \u001b[0mis_positive_number\u001b[0m\u001b[0;34m(\u001b[0m\u001b[0;34m-\u001b[0m\u001b[0;36m1\u001b[0m\u001b[0;34m)\u001b[0m \u001b[0;34m==\u001b[0m \u001b[0;32mFalse\u001b[0m\u001b[0;34m\u001b[0m\u001b[0;34m\u001b[0m\u001b[0m\n",
            "\u001b[0;31mAssertionError\u001b[0m: "
          ]
        }
      ]
    },
    {
      "cell_type": "markdown",
      "source": [
        "## 试题 4"
      ],
      "metadata": {
        "id": "v8nwqj6HtIZu"
      }
    },
    {
      "cell_type": "code",
      "source": [
        "def get_list_top_n_numbers(numbers, n):\n",
        "    \"\"\"\n",
        "    返回一个列表中最大的前n个数\n",
        "    \"\"\"\n",
        "    pass\n",
        "\n",
        "# 测试用例\n",
        "assert get_list_top_n_numbers([1, 2, 3, 4, 5], 3) == [5, 4, 3]\n",
        "assert get_list_top_n_numbers([5, 4, 3, 2, 1], 1) == [5]\n",
        "assert get_list_top_n_numbers([100, 90, 80, 70, 60], 2) == [100, 90]"
      ],
      "metadata": {
        "id": "QWotUyq0tJXb"
      },
      "execution_count": null,
      "outputs": []
    },
    {
      "cell_type": "markdown",
      "source": [
        "## 试题 5"
      ],
      "metadata": {
        "id": "cFwGhA8ytK5S"
      }
    },
    {
      "cell_type": "code",
      "source": [
        "def count_even_numbers(numbers):\n",
        "    \"\"\"\n",
        "    统计一个列表中偶数的个数\n",
        "    \"\"\"\n",
        "    pass\n",
        "\n",
        "# 测试用例\n",
        "assert count_even_numbers([1, 2, 3, 4, 5]) == 2\n",
        "assert count_even_numbers([2, 4, 6, 8, 10]) == 5\n",
        "assert count_even_numbers([1, 3, 5, 7, 9]) == 0"
      ],
      "metadata": {
        "id": "NsExYE2-tLyL"
      },
      "execution_count": null,
      "outputs": []
    },
    {
      "cell_type": "markdown",
      "source": [
        "## 试题 6"
      ],
      "metadata": {
        "id": "w4UxH_nitNPR"
      }
    },
    {
      "cell_type": "code",
      "source": [
        "def remove_duplicate_items_from_list(items):\n",
        "    \"\"\"\n",
        "    从一个列表中移除重复的项\n",
        "    \"\"\"\n",
        "    pass\n",
        "\n",
        "# 测试用例\n",
        "assert remove_duplicate_items_from_list([1, 2, 3, 2, 1]) == [1, 2, 3]\n",
        "assert remove_duplicate_items_from_list(['a', 'b', 'c', 'b', 'c']) == ['a', 'b', 'c']\n",
        "assert remove_duplicate_items_from_list([1, 2, 3, 4, 5]) == [1, 2, 3, 4, 5]"
      ],
      "metadata": {
        "id": "UD5ga1OftO4U"
      },
      "execution_count": null,
      "outputs": []
    },
    {
      "cell_type": "markdown",
      "source": [
        "## 试题7"
      ],
      "metadata": {
        "id": "BSGf85UgtQiy"
      }
    },
    {
      "cell_type": "code",
      "source": [
        "def is_palindrome(word):\n",
        "    \"\"\"\n",
        "    判断一个单词是否为回文单词\n",
        "    \"\"\"\n",
        "    pass\n",
        "\n",
        "# 测试用例\n",
        "assert is_palindrome('racecar') == True\n",
        "assert is_palindrome('hello') == False\n",
        "assert is_palindrome('level') == True"
      ],
      "metadata": {
        "colab": {
          "base_uri": "https://localhost:8080/",
          "height": 245
        },
        "id": "Krs5cTqftR0z",
        "outputId": "008ceb7c-41d9-4728-be1c-6132b03de267"
      },
      "execution_count": null,
      "outputs": [
        {
          "output_type": "error",
          "ename": "AssertionError",
          "evalue": "ignored",
          "traceback": [
            "\u001b[0;31m---------------------------------------------------------------------------\u001b[0m",
            "\u001b[0;31mAssertionError\u001b[0m                            Traceback (most recent call last)",
            "\u001b[0;32m<ipython-input-3-fe54a41b3253>\u001b[0m in \u001b[0;36m<cell line: 8>\u001b[0;34m()\u001b[0m\n\u001b[1;32m      6\u001b[0m \u001b[0;34m\u001b[0m\u001b[0m\n\u001b[1;32m      7\u001b[0m \u001b[0;31m# 测试用例\u001b[0m\u001b[0;34m\u001b[0m\u001b[0;34m\u001b[0m\u001b[0m\n\u001b[0;32m----> 8\u001b[0;31m \u001b[0;32massert\u001b[0m \u001b[0mis_palindrome\u001b[0m\u001b[0;34m(\u001b[0m\u001b[0;34m'racecar'\u001b[0m\u001b[0;34m)\u001b[0m \u001b[0;34m==\u001b[0m \u001b[0;32mTrue\u001b[0m\u001b[0;34m\u001b[0m\u001b[0;34m\u001b[0m\u001b[0m\n\u001b[0m\u001b[1;32m      9\u001b[0m \u001b[0;32massert\u001b[0m \u001b[0mis_palindrome\u001b[0m\u001b[0;34m(\u001b[0m\u001b[0;34m'hello'\u001b[0m\u001b[0;34m)\u001b[0m \u001b[0;34m==\u001b[0m \u001b[0;32mFalse\u001b[0m\u001b[0;34m\u001b[0m\u001b[0;34m\u001b[0m\u001b[0m\n\u001b[1;32m     10\u001b[0m \u001b[0;32massert\u001b[0m \u001b[0mis_palindrome\u001b[0m\u001b[0;34m(\u001b[0m\u001b[0;34m'level'\u001b[0m\u001b[0;34m)\u001b[0m \u001b[0;34m==\u001b[0m \u001b[0;32mTrue\u001b[0m\u001b[0;34m\u001b[0m\u001b[0;34m\u001b[0m\u001b[0m\n",
            "\u001b[0;31mAssertionError\u001b[0m: "
          ]
        }
      ]
    },
    {
      "cell_type": "markdown",
      "source": [
        "## 试题 8"
      ],
      "metadata": {
        "id": "rqaRlO8jtVbF"
      }
    },
    {
      "cell_type": "code",
      "source": [
        "def factorial(number):\n",
        "    \"\"\"\n",
        "    计算一个数的阶乘\n",
        "    \"\"\"\n",
        "    pass\n",
        "\n",
        "# 测试用例\n",
        "assert factorial(0) == 1\n",
        "assert factorial(1) == 1\n",
        "assert factorial(5) == 120"
      ],
      "metadata": {
        "id": "zwiNIIz0tXXb"
      },
      "execution_count": null,
      "outputs": []
    },
    {
      "cell_type": "markdown",
      "source": [
        "## 试题 9"
      ],
      "metadata": {
        "id": "ik82CalwtYyB"
      }
    },
    {
      "cell_type": "code",
      "source": [
        "def get_largest_number(numbers):\n",
        "    \"\"\"\n",
        "    获取一个列表中最大的数字\n",
        "    \"\"\"\n",
        "    pass\n",
        "\n",
        "# 测试用例\n",
        "assert get_largest_number([1, 2, 3, 4, 5]) == 5\n",
        "assert get_largest_number([100, 90, 80, 70, 60]) == 100\n",
        "assert get_largest_number([-1, -2, -3, -4, -5]) == -1"
      ],
      "metadata": {
        "id": "Kfz4c54KtZrC"
      },
      "execution_count": null,
      "outputs": []
    },
    {
      "cell_type": "markdown",
      "source": [
        "## 试题 10"
      ],
      "metadata": {
        "id": "2_54gXWetbCE"
      }
    },
    {
      "cell_type": "code",
      "source": [
        "def calculate_average(numbers):\n",
        "    \"\"\"\n",
        "    计算一个数值列表的平均值\n",
        "    \"\"\"\n",
        "    pass\n",
        "\n",
        "# 测试用例\n",
        "assert calculate_average([1, 2, 3, 4, 5]) == 3.0\n",
        "assert calculate_average([10, 20, 30, 40, 50]) == 30.0\n",
        "assert calculate_average([-1, 0, 1]) == 0.0"
      ],
      "metadata": {
        "id": "F3g93NcjtcF6"
      },
      "execution_count": null,
      "outputs": []
    }
  ]
}